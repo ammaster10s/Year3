{
 "cells": [
  {
   "cell_type": "code",
   "execution_count": 1,
   "metadata": {},
   "outputs": [
    {
     "name": "stdout",
     "output_type": "stream",
     "text": [
      "Successfully copied 500 random images to C:\\Users\\Pawaris\\Downloads\\archive\\OCT2017\\train\\Randomly_Selected_Images\n"
     ]
    }
   ],
   "source": [
    "import os\n",
    "import random\n",
    "import shutil\n",
    "\n",
    "# Source directory containing images\n",
    "source_dir = r'C:\\Users\\Pawaris\\Downloads\\archive\\OCT2017\\train\\CNV'\n",
    "\n",
    "# Destination directory to save randomly selected images\n",
    "destination_dir = r'C:\\Users\\Pawaris\\Downloads\\archive\\OCT2017\\train\\Randomly_Selected_Images'\n",
    "\n",
    "# Create destination directory if it does not exist\n",
    "os.makedirs(destination_dir, exist_ok=True)\n",
    "\n",
    "# List all files (assumed to be images) in the source directory\n",
    "files = os.listdir(source_dir)\n",
    "\n",
    "# Select 500 random files from the list\n",
    "random_files = random.sample(files, 500)\n",
    "\n",
    "# Copy selected files to the destination directory\n",
    "for file in random_files:\n",
    "    source_file = os.path.join(source_dir, file)\n",
    "    destination_file = os.path.join(destination_dir, file)\n",
    "    shutil.copyfile(source_file, destination_file)\n",
    "\n",
    "print(f\"Successfully copied 500 random images to {destination_dir}\")\n"
   ]
  }
 ],
 "metadata": {
  "kernelspec": {
   "display_name": "Python 3",
   "language": "python",
   "name": "python3"
  },
  "language_info": {
   "codemirror_mode": {
    "name": "ipython",
    "version": 3
   },
   "file_extension": ".py",
   "mimetype": "text/x-python",
   "name": "python",
   "nbconvert_exporter": "python",
   "pygments_lexer": "ipython3",
   "version": "3.12.6"
  }
 },
 "nbformat": 4,
 "nbformat_minor": 2
}

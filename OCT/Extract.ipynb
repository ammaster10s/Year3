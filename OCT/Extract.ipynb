{
 "cells": [
  {
   "cell_type": "code",
   "execution_count": 2,
   "metadata": {},
   "outputs": [
    {
     "ename": "FileNotFoundError",
     "evalue": "[WinError 3] The system cannot find the path specified: 'C:\\\\Users\\\\Pawaris\\\\Downloads\\\\archive\\\\OCT2017\\\\train\\\\DRUSSEN'",
     "output_type": "error",
     "traceback": [
      "\u001b[1;31m---------------------------------------------------------------------------\u001b[0m",
      "\u001b[1;31mFileNotFoundError\u001b[0m                         Traceback (most recent call last)",
      "Cell \u001b[1;32mIn[2], line 28\u001b[0m\n\u001b[0;32m     25\u001b[0m destination_directory \u001b[38;5;241m=\u001b[39m \u001b[38;5;124m'\u001b[39m\u001b[38;5;124mC:\u001b[39m\u001b[38;5;130;01m\\\\\u001b[39;00m\u001b[38;5;124mUsers\u001b[39m\u001b[38;5;130;01m\\\\\u001b[39;00m\u001b[38;5;124mPawaris\u001b[39m\u001b[38;5;130;01m\\\\\u001b[39;00m\u001b[38;5;124mDesktop\u001b[39m\u001b[38;5;130;01m\\\\\u001b[39;00m\u001b[38;5;124mWorking_Station\u001b[39m\u001b[38;5;130;01m\\\\\u001b[39;00m\u001b[38;5;124mGithub\u001b[39m\u001b[38;5;130;01m\\\\\u001b[39;00m\u001b[38;5;124mYear3\u001b[39m\u001b[38;5;130;01m\\\\\u001b[39;00m\u001b[38;5;124mOCT\u001b[39m\u001b[38;5;130;01m\\\\\u001b[39;00m\u001b[38;5;124mDRUSEN\u001b[39m\u001b[38;5;124m'\u001b[39m\n\u001b[0;32m     27\u001b[0m \u001b[38;5;66;03m# Extract 250 files\u001b[39;00m\n\u001b[1;32m---> 28\u001b[0m \u001b[43mextract_random_files\u001b[49m\u001b[43m(\u001b[49m\u001b[43msource_directory\u001b[49m\u001b[43m,\u001b[49m\u001b[43m \u001b[49m\u001b[43mdestination_directory\u001b[49m\u001b[43m,\u001b[49m\u001b[43m \u001b[49m\u001b[43mnum_files\u001b[49m\u001b[38;5;241;43m=\u001b[39;49m\u001b[38;5;241;43m250\u001b[39;49m\u001b[43m)\u001b[49m\n",
      "Cell \u001b[1;32mIn[2], line 10\u001b[0m, in \u001b[0;36mextract_random_files\u001b[1;34m(source_dir, dest_dir, num_files)\u001b[0m\n\u001b[0;32m      7\u001b[0m os\u001b[38;5;241m.\u001b[39mmakedirs(dest_dir, exist_ok\u001b[38;5;241m=\u001b[39m\u001b[38;5;28;01mTrue\u001b[39;00m)\n\u001b[0;32m      9\u001b[0m \u001b[38;5;66;03m# Get a list of all files in the source directory\u001b[39;00m\n\u001b[1;32m---> 10\u001b[0m all_files \u001b[38;5;241m=\u001b[39m [f \u001b[38;5;28;01mfor\u001b[39;00m f \u001b[38;5;129;01min\u001b[39;00m \u001b[43mos\u001b[49m\u001b[38;5;241;43m.\u001b[39;49m\u001b[43mlistdir\u001b[49m\u001b[43m(\u001b[49m\u001b[43msource_dir\u001b[49m\u001b[43m)\u001b[49m \u001b[38;5;28;01mif\u001b[39;00m os\u001b[38;5;241m.\u001b[39mpath\u001b[38;5;241m.\u001b[39misfile(os\u001b[38;5;241m.\u001b[39mpath\u001b[38;5;241m.\u001b[39mjoin(source_dir, f))]\n\u001b[0;32m     12\u001b[0m \u001b[38;5;66;03m# Randomly select the specified number of files\u001b[39;00m\n\u001b[0;32m     13\u001b[0m selected_files \u001b[38;5;241m=\u001b[39m random\u001b[38;5;241m.\u001b[39msample(all_files, \u001b[38;5;28mmin\u001b[39m(num_files, \u001b[38;5;28mlen\u001b[39m(all_files)))\n",
      "\u001b[1;31mFileNotFoundError\u001b[0m: [WinError 3] The system cannot find the path specified: 'C:\\\\Users\\\\Pawaris\\\\Downloads\\\\archive\\\\OCT2017\\\\train\\\\DRUSSEN'"
     ]
    }
   ],
   "source": [
    "import os\n",
    "import random\n",
    "import shutil\n",
    "\n",
    "def extract_random_files(source_dir, dest_dir, num_files=250):\n",
    "    # Create destination directory if it doesn't exist\n",
    "    os.makedirs(dest_dir, exist_ok=True)\n",
    "    \n",
    "    # Get a list of all files in the source directory\n",
    "    all_files = [f for f in os.listdir(source_dir) if os.path.isfile(os.path.join(source_dir, f))]\n",
    "    \n",
    "    # Randomly select the specified number of files\n",
    "    selected_files = random.sample(all_files, min(num_files, len(all_files)))\n",
    "    \n",
    "    # Copy each selected file to the destination directory\n",
    "    for file_name in selected_files:\n",
    "        source_path = os.path.join(source_dir, file_name)\n",
    "        dest_path = os.path.join(dest_dir, file_name)\n",
    "        shutil.copy2(source_path, dest_path)\n",
    "    \n",
    "    print(f\"{len(selected_files)} files have been copied to {dest_dir}\")\n",
    "\n",
    "# Specify the source and destination directories\n",
    "source_directory = 'C:\\\\Users\\\\Pawaris\\\\Downloads\\\\archive\\\\OCT2017\\\\train\\\\DRUSSEN'\n",
    "destination_directory = 'C:\\\\Users\\\\Pawaris\\\\Desktop\\\\Working_Station\\\\Github\\\\Year3\\\\OCT\\\\DRUSEN'\n",
    "\n",
    "# Extract 250 files\n",
    "extract_random_files(source_directory, destination_directory, num_files=250)\n"
   ]
  }
 ],
 "metadata": {
  "kernelspec": {
   "display_name": "Python 3",
   "language": "python",
   "name": "python3"
  },
  "language_info": {
   "codemirror_mode": {
    "name": "ipython",
    "version": 3
   },
   "file_extension": ".py",
   "mimetype": "text/x-python",
   "name": "python",
   "nbconvert_exporter": "python",
   "pygments_lexer": "ipython3",
   "version": "3.12.6"
  }
 },
 "nbformat": 4,
 "nbformat_minor": 2
}
